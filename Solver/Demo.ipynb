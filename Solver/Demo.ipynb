{
 "cells": [
  {
   "cell_type": "code",
   "execution_count": 1,
   "metadata": {},
   "outputs": [],
   "source": [
    "import sys\n",
    "import paths\n",
    "import devito_parser\n",
    "import ccode_generator\n",
    "import template_renderer\n",
    "from devito import Grid, TimeFunction, Eq, Operator, solve"
   ]
  },
  {
   "cell_type": "code",
   "execution_count": 2,
   "metadata": {},
   "outputs": [],
   "source": [
    "# Define problem: second order wave equation\n",
    "nt = 100  # Number of timesteps\n",
    "dt = 0.2 * 2. / 20  # Timestep size (sigma=0.2)\n",
    "c = 1  # Value for c"
   ]
  },
  {
   "cell_type": "code",
   "execution_count": 3,
   "metadata": {},
   "outputs": [
    {
     "data": {
      "text/latex": [
       "$\\displaystyle u{\\left(t,x,y \\right)}$"
      ],
      "text/plain": [
       "u(t, x, y)"
      ]
     },
     "execution_count": 3,
     "metadata": {},
     "output_type": "execute_result"
    }
   ],
   "source": [
    "grid = Grid(shape=(21, 21), extent=(1., 1.))\n",
    "u = TimeFunction(name='u', grid=grid, space_order=2, time_order=2)\n",
    "u"
   ]
  },
  {
   "cell_type": "code",
   "execution_count": 4,
   "metadata": {},
   "outputs": [
    {
     "data": {
      "text/latex": [
       "$\\displaystyle - \\frac{\\partial^{2}}{\\partial x^{2}} u{\\left(t,x,y \\right)} - \\frac{\\partial^{2}}{\\partial y^{2}} u{\\left(t,x,y \\right)} + 1.0 \\frac{\\partial^{2}}{\\partial t^{2}} u{\\left(t,x,y \\right)}$"
      ],
      "text/plain": [
       "-Derivative(u(t, x, y), (x, 2)) - Derivative(u(t, x, y), (y, 2)) + 1.0*Derivative(u(t, x, y), (t, 2))"
      ]
     },
     "execution_count": 4,
     "metadata": {},
     "output_type": "execute_result"
    }
   ],
   "source": [
    "pde = (1 / c*c) * u.dt2 - u.laplace\n",
    "pde"
   ]
  },
  {
   "cell_type": "code",
   "execution_count": 5,
   "metadata": {},
   "outputs": [
    {
     "data": {
      "text/latex": [
       "$\\displaystyle u{\\left(t + dt,x,y \\right)} = 1.0 dt^{2} \\left(- \\frac{2.0 u{\\left(t,x,y \\right)}}{h_{y}^{2}} + \\frac{u{\\left(t,x,y - h_{y} \\right)}}{h_{y}^{2}} + \\frac{u{\\left(t,x,y + h_{y} \\right)}}{h_{y}^{2}} - \\frac{2.0 u{\\left(t,x,y \\right)}}{h_{x}^{2}} + \\frac{u{\\left(t,x - h_{x},y \\right)}}{h_{x}^{2}} + \\frac{u{\\left(t,x + h_{x},y \\right)}}{h_{x}^{2}} + \\frac{2.0 u{\\left(t,x,y \\right)}}{dt^{2}} - \\frac{1.0 u{\\left(t - dt,x,y \\right)}}{dt^{2}}\\right)$"
      ],
      "text/plain": [
       "Eq(u(t + dt, x, y), 1.0*dt**2*(-2.0*u(t, x, y)/h_y**2 + u(t, x, y - h_y)/h_y**2 + u(t, x, y + h_y)/h_y**2 - 2.0*u(t, x, y)/h_x**2 + u(t, x - h_x, y)/h_x**2 + u(t, x + h_x, y)/h_x**2 + 2.0*u(t, x, y)/dt**2 - 1.0*u(t - dt, x, y)/dt**2))"
      ]
     },
     "execution_count": 5,
     "metadata": {},
     "output_type": "execute_result"
    }
   ],
   "source": [
    "stencil = Eq(u.forward, solve(pde, u.forward))\n",
    "stencil"
   ]
  },
  {
   "cell_type": "code",
   "execution_count": 6,
   "metadata": {},
   "outputs": [],
   "source": [
    "# Initialize problem data (initial condition)\n",
    "from examples.cfd import init_smooth, plot_field\n",
    "init_smooth(field=u.data[0], dx=grid.spacing[0], dy=grid.spacing[1])\n",
    "init_smooth(field=u.data[1], dx=grid.spacing[0], dy=grid.spacing[1])"
   ]
  },
  {
   "cell_type": "code",
   "execution_count": 7,
   "metadata": {},
   "outputs": [
    {
     "data": {
      "text/latex": [
       "$\\displaystyle Element\\left(u, \\left( t + 1, \\  x, \\  y\\right), NoneToken\\left(\\right), NoneToken\\left(\\right)\\right) = 1.0 dt^{2} \\left(- \\frac{2.0 Element\\left(u, \\left( t, \\  x, \\  y\\right), NoneToken\\left(\\right), NoneToken\\left(\\right)\\right)}{h_{y}^{2}} + \\frac{Element\\left(u, \\left( t, \\  x, \\  y - 1\\right), NoneToken\\left(\\right), NoneToken\\left(\\right)\\right)}{h_{y}^{2}} + \\frac{Element\\left(u, \\left( t, \\  x, \\  y + 1\\right), NoneToken\\left(\\right), NoneToken\\left(\\right)\\right)}{h_{y}^{2}} - \\frac{2.0 Element\\left(u, \\left( t, \\  x, \\  y\\right), NoneToken\\left(\\right), NoneToken\\left(\\right)\\right)}{h_{x}^{2}} + \\frac{Element\\left(u, \\left( t, \\  x - 1, \\  y\\right), NoneToken\\left(\\right), NoneToken\\left(\\right)\\right)}{h_{x}^{2}} + \\frac{Element\\left(u, \\left( t, \\  x + 1, \\  y\\right), NoneToken\\left(\\right), NoneToken\\left(\\right)\\right)}{h_{x}^{2}} + \\frac{2.0 Element\\left(u, \\left( t, \\  x, \\  y\\right), NoneToken\\left(\\right), NoneToken\\left(\\right)\\right)}{dt^{2}} - \\frac{1.0 Element\\left(u, \\left( t - 1, \\  x, \\  y\\right), NoneToken\\left(\\right), NoneToken\\left(\\right)\\right)}{dt^{2}}\\right)$"
      ],
      "text/plain": [
       "Eq(Element(u, indices=(t + 1, x, y)), 1.0*dt**2*(-2.0*Element(u, indices=(t, x, y))/h_y**2 + Element(u, indices=(t, x, y - 1))/h_y**2 + Element(u, indices=(t, x, y + 1))/h_y**2 - 2.0*Element(u, indices=(t, x, y))/h_x**2 + Element(u, indices=(t, x - 1, y))/h_x**2 + Element(u, indices=(t, x + 1, y))/h_x**2 + 2.0*Element(u, indices=(t, x, y))/dt**2 - 1.0*Element(u, indices=(t - 1, x, y))/dt**2))"
      ]
     },
     "execution_count": 7,
     "metadata": {},
     "output_type": "execute_result"
    }
   ],
   "source": [
    "# Tranlate DSL\n",
    "parser = devito_parser.Parser(stencil)\n",
    "sympy_stencil = parser.translate_expression()\n",
    "sympy_stencil"
   ]
  },
  {
   "cell_type": "code",
   "execution_count": 8,
   "metadata": {},
   "outputs": [
    {
     "data": {
      "text/plain": [
       "'int Solver(double dt, double h_x, double h_y, double u[3][21][21], int time_M, int time_m, int x_M, int x_m, int y_M, int y_m){\\n   int t;\\n   int x;\\n   int y;\\n   for (t = time_m; t < time_M; t += 1) {\\n      for (x = x_m; x < x_M; x += 1) {\\n         for (y = y_m; y < y_M; y += 1) {\\n            u[(t + 1)%3][x][y] = 1.0*pow(dt, 2)*(-2.0*u[(t)%3][x][y]/pow(h_y, 2) + u[(t)%3][x][y - 1]/pow(h_y, 2) + u[(t)%3][x][y + 1]/pow(h_y, 2) - 2.0*u[(t)%3][x][y]/pow(h_x, 2) + u[(t)%3][x - 1][y]/pow(h_x, 2) + u[(t)%3][x + 1][y]/pow(h_x, 2) + 2.0*u[(t)%3][x][y]/pow(dt, 2) - 1.0*u[(t - 1)%3][x][y]/pow(dt, 2));\\n         };\\n      };\\n   };\\n}'"
      ]
     },
     "execution_count": 8,
     "metadata": {},
     "output_type": "execute_result"
    }
   ],
   "source": [
    "# Generate solver code\n",
    "generator = ccode_generator.Generator(sympy_stencil, len(u.grid.dimensions))\n",
    "code = generator.generate_solver()\n",
    "code"
   ]
  },
  {
   "cell_type": "code",
   "execution_count": 9,
   "metadata": {},
   "outputs": [],
   "source": [
    "# Render template\n",
    "renderer = template_renderer.Renderer(u, dt, nt, code)\n",
    "renderer.render_template()"
   ]
  },
  {
   "cell_type": "code",
   "execution_count": null,
   "metadata": {},
   "outputs": [],
   "source": []
  }
 ],
 "metadata": {
  "kernelspec": {
   "display_name": "Python 3",
   "language": "python",
   "name": "python3"
  },
  "language_info": {
   "codemirror_mode": {
    "name": "ipython",
    "version": 3
   },
   "file_extension": ".py",
   "mimetype": "text/x-python",
   "name": "python",
   "nbconvert_exporter": "python",
   "pygments_lexer": "ipython3",
   "version": "3.8.5"
  }
 },
 "nbformat": 4,
 "nbformat_minor": 4
}
